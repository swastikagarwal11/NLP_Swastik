{
 "cells": [
  {
   "cell_type": "code",
   "execution_count": 71,
   "id": "dbf975f7",
   "metadata": {},
   "outputs": [],
   "source": [
    "import nltk\n",
    "import math\n",
    "\n",
    "from nltk.tokenize import sent_tokenize,word_tokenize\n",
    "from nltk.corpus import stopwords\n",
    "\n"
   ]
  },
  {
   "cell_type": "code",
   "execution_count": null,
   "id": "8907f23f",
   "metadata": {},
   "outputs": [],
   "source": []
  },
  {
   "cell_type": "code",
   "execution_count": 72,
   "id": "633587dd",
   "metadata": {},
   "outputs": [],
   "source": [
    "import math\n",
    "\n",
    "def calculate_tf_idf(sentence, sentences):\n",
    "    \n",
    "    #tokenise the sentence and returned filtered words\n",
    "    def tokenize_word(sentence):\n",
    "        \n",
    "        stop_words = set(stopwords.words('english'))\n",
    "        words = word_tokenize(sentence)\n",
    "        filtered_words = []\n",
    "        for word in words:\n",
    "            if word.lower() not in stop_words:\n",
    "                filtered_words.append(word)\n",
    "        return filtered_words\n",
    "\n",
    "    #calculate the tf of filtered words in sentence\n",
    "    def calculate_tf(word, sentence):\n",
    "        words = tokenize_word(sentence)\n",
    "        return words.count(word) / len(words)\n",
    "\n",
    "    #calculate idf of filtered words in sentences\n",
    "    def calculate_idf(word, sentences):\n",
    "        no = 0\n",
    "        for sent in sentences:\n",
    "            if word in tokenize_word(sent):\n",
    "                no += 1\n",
    "        return math.log(len(sentences) / (no + 1))\n",
    "\n",
    "    words = set(tokenize_word(sentence))\n",
    "    tf_idf_score = 0\n",
    "    for word in words:\n",
    "        tf = calculate_tf(word, sentence)\n",
    "        idf = calculate_idf(word, sentences)\n",
    "        tf_idf_score += tf * idf\n",
    "    return tf_idf_score\n"
   ]
  },
  {
   "cell_type": "code",
   "execution_count": 74,
   "id": "a7861574",
   "metadata": {},
   "outputs": [],
   "source": [
    "def summarize_text(text, length):\n",
    "    # Tokenize the text into sentences\n",
    "    sentences = sent_tokenize(text)\n",
    "    \n",
    "    # Calculate TF-IDF scores for each sentence\n",
    "    sentence_scores = {}\n",
    "    for sentence in sentences:\n",
    "        sentence_scores[sentence] = calculate_tf_idf(sentence, sentences)\n",
    "    \n",
    "    # Select the top 'length' sentences based on scores\n",
    "    top_sent=[]\n",
    "\n",
    "    for _ in range(length):\n",
    "        max_score = -888\n",
    "        max_sentence = None\n",
    "        for sentence, score in sentence_scores.items():\n",
    "            if score > max_score:\n",
    "                max_score = score\n",
    "                max_sentence = sentence\n",
    "        if max_sentence is not None:\n",
    "            top_sent.append(max_sentence)\n",
    "            del sentence_scores[max_sentence]\n",
    "    \n",
    "    \n",
    "    # Join the selected sentences to form the summary\n",
    "    summary = ' '.join(top_sent)\n",
    "    \n",
    "    return summary"
   ]
  },
  {
   "cell_type": "code",
   "execution_count": 75,
   "id": "7241b4fe",
   "metadata": {},
   "outputs": [
    {
     "name": "stdout",
     "output_type": "stream",
     "text": [
      "Summary:\n",
      "i m very bored of this subject machine learning is important aspect of human beings. how r u. hope you are doing great.\n"
     ]
    }
   ],
   "source": [
    "text= \"\"\"\n",
    "hello hi . how r u. hope you are doing great. machine learning is important aspect of human beings. humans are annoying . i m very bored of this subject\n",
    "\"\"\"\n",
    "summary=summarize_text(text,3)\n",
    "print(\"Summary:\")\n",
    "print(summary)"
   ]
  },
  {
   "cell_type": "code",
   "execution_count": null,
   "id": "684a8d7f",
   "metadata": {},
   "outputs": [],
   "source": []
  }
 ],
 "metadata": {
  "kernelspec": {
   "display_name": "Python 3.9.6 64-bit",
   "language": "python",
   "name": "python3"
  },
  "language_info": {
   "codemirror_mode": {
    "name": "ipython",
    "version": 3
   },
   "file_extension": ".py",
   "mimetype": "text/x-python",
   "name": "python",
   "nbconvert_exporter": "python",
   "pygments_lexer": "ipython3",
   "version": "3.9.6"
  },
  "vscode": {
   "interpreter": {
    "hash": "31f2aee4e71d21fbe5cf8b01ff0e069b9275f58929596ceb00d14d90e3e16cd6"
   }
  }
 },
 "nbformat": 4,
 "nbformat_minor": 5
}
