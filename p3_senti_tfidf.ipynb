{
 "cells": [
  {
   "cell_type": "code",
   "execution_count": 46,
   "id": "cb1e343a-5fff-41ff-9e7e-0d98d7a821f6",
   "metadata": {
    "tags": []
   },
   "outputs": [
    {
     "name": "stdout",
     "output_type": "stream",
     "text": [
      "Accuracy: 0.6664501461513478\n",
      "Predicted Sentiment: 3.0\n"
     ]
    }
   ],
   "source": [
    "import pandas as pd\n",
    "from nltk.tokenize import word_tokenize\n",
    "from nltk.corpus import stopwords\n",
    "from sklearn.model_selection import train_test_split\n",
    "from sklearn.metrics import accuracy_score\n",
    "from sklearn.linear_model import LogisticRegression\n",
    "import numpy as np\n",
    "import math\n",
    "\n",
    "df = pd.read_csv(\"/Users/swastikagarwal/Downloads/PERSONAL/sem 5 codes/NLP/Musical_instruments_reviews 4.csv\")\n",
    "X = df['summary']\n",
    "# y = (df['overall'] >= 4).astype(int)\n",
    "y=df['overall']\n",
    "\n",
    "X_train, X_test, y_train, y_test = train_test_split(X, y, test_size=0.3, random_state=42)\n",
    "\n",
    "stop_words = set(stopwords.words('english'))\n",
    "preprocess = lambda text: ' '.join([word.lower() for word in word_tokenize(text) if word.isalpha() and word.lower() not in stop_words])\n",
    "X_train = X_train.apply(preprocess)\n",
    "X_test = X_test.apply(preprocess)\n",
    "\n",
    "# Manual TF-IDF calculation\n",
    "def calculate_tf(word, sentence):\n",
    "    words = sentence.split()\n",
    "    return words.count(word) / (len(words)+1)\n",
    "\n",
    "def calculate_idf(word, sentences):\n",
    "        no = 0\n",
    "        for sent in sentences:\n",
    "            if word in sent:\n",
    "                no += 1\n",
    "        return math.log(len(sentences) / (no + 1))\n",
    "\n",
    "# Calculate TF-IDF for training set\n",
    "all_documents = X_train.tolist() + X_test.tolist()\n",
    "idf_values = {term: calculate_idf(term, all_documents) for term in set(' '.join(all_documents).split())}\n",
    "\n",
    "# Define the vocabulary based on the sorted terms\n",
    "vocabulary = sorted(list(idf_values.keys()))\n",
    "\n",
    "# Calculate TF-IDF for training set\n",
    "X_train_tfidf_manual = []\n",
    "for document in X_train:\n",
    "    tfidf_vector = [calculate_tf(term, document) * idf_values[term] for term in vocabulary]\n",
    "    X_train_tfidf_manual.append(tfidf_vector)\n",
    "\n",
    "# Calculate TF-IDF for test set\n",
    "X_test_tfidf_manual = []\n",
    "for document in X_test:\n",
    "    tfidf_vector = [calculate_tf(term, document) * idf_values[term] for term in vocabulary]\n",
    "    X_test_tfidf_manual.append(tfidf_vector)\n",
    "\n",
    "# Convert the lists to numpy arrays\n",
    "X_train_tfidf_manual = np.array(X_train_tfidf_manual)\n",
    "X_test_tfidf_manual = np.array(X_test_tfidf_manual)\n",
    "\n",
    "# Train the model\n",
    "model = LogisticRegression(max_iter=200).fit(X_train_tfidf_manual, y_train)\n",
    "y_pred = model.predict(X_test_tfidf_manual)\n",
    "print(\"Accuracy:\", accuracy_score(y_test, y_pred))\n",
    "\n",
    "# Predict on new text\n",
    "new_text = \"It's bad\"\n",
    "new_text_tfidf_manual = [calculate_tf(term, preprocess(new_text)) * idf_values[term] for term in vocabulary]\n",
    "predicted_sentiment = model.predict([new_text_tfidf_manual])\n",
    "# print(\"Predicted Sentiment:\", \"Positive\" if predicted_sentiment[0] == 1 else \"Negative\")\n",
    "print(\"Predicted Sentiment:\",predicted_sentiment[0])"
   ]
  },
  {
   "cell_type": "code",
   "execution_count": null,
   "id": "32a132bc",
   "metadata": {},
   "outputs": [],
   "source": []
  },
  {
   "cell_type": "code",
   "execution_count": 47,
   "id": "43eb3d73-fd95-45af-aa88-2becb8140883",
   "metadata": {},
   "outputs": [
    {
     "name": "stdout",
     "output_type": "stream",
     "text": [
      "2507    great solution acoustic guitar\n",
      "5159    crazy took long time arrive us\n",
      "932                    would grab play\n",
      "1190            works great easy carry\n",
      "2619                       nice guitar\n",
      "                     ...              \n",
      "7307                    nice jackplate\n",
      "5384                               get\n",
      "7341                  good lead guitar\n",
      "8921                   excellent tuner\n",
      "3429                             works\n",
      "Name: summary, Length: 3079, dtype: object\n"
     ]
    }
   ],
   "source": [
    "print(X_test)\n"
   ]
  },
  {
   "cell_type": "code",
   "execution_count": 48,
   "id": "0de409e9-563c-41f4-b752-ce2d88b097ec",
   "metadata": {},
   "outputs": [
    {
     "name": "stdout",
     "output_type": "stream",
     "text": [
      "Predicted Sentiment: 1.0\n"
     ]
    }
   ],
   "source": [
    "new_text = \"crap.\"\n",
    "new_text_tfidf_manual = [calculate_tf(term, preprocess_text(new_text)) * idf_values[term] for term in vocabulary]\n",
    "predicted_sentiment = model.predict([new_text_tfidf_manual])\n",
    "print(\"Predicted Sentiment:\",predicted_sentiment[0])"
   ]
  },
  {
   "cell_type": "code",
   "execution_count": null,
   "id": "c0fba07f-2c79-4fcd-b669-7303937279ca",
   "metadata": {},
   "outputs": [],
   "source": []
  }
 ],
 "metadata": {
  "kernelspec": {
   "display_name": "Python 3.9.6 64-bit",
   "language": "python",
   "name": "python3"
  },
  "language_info": {
   "codemirror_mode": {
    "name": "ipython",
    "version": 3
   },
   "file_extension": ".py",
   "mimetype": "text/x-python",
   "name": "python",
   "nbconvert_exporter": "python",
   "pygments_lexer": "ipython3",
   "version": "3.9.6"
  },
  "vscode": {
   "interpreter": {
    "hash": "31f2aee4e71d21fbe5cf8b01ff0e069b9275f58929596ceb00d14d90e3e16cd6"
   }
  }
 },
 "nbformat": 4,
 "nbformat_minor": 5
}
