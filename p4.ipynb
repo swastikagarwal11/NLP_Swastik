{
 "cells": [
  {
   "cell_type": "code",
   "execution_count": 21,
   "id": "2713a3ed",
   "metadata": {},
   "outputs": [],
   "source": [
    "import pandas as pd\n",
    "from sklearn.linear_model import LogisticRegression\n",
    "\n",
    "def calculatewordfreq(words):\n",
    "    word_freq = {}\n",
    "    for word in words:\n",
    "        if word in word_freq:\n",
    "            word_freq[word] += 1\n",
    "        else:\n",
    "            word_freq[word] = 1\n",
    "\n",
    "    return word_freq\n",
    "\n",
    "\n",
    "\n",
    "def calculate_ngrams(docs, n):\n",
    "    ngram_list = []\n",
    "    \n",
    "    # Iterate over each document in the input list\n",
    "    for doc in docs:\n",
    "        \n",
    "        words = doc.split()\n",
    "        doc_ngrams = []\n",
    "        \n",
    "        # Generate n-grams for the current document\n",
    "        for i in range(len(words) - n + 1):\n",
    "            n_gram = words[i:i + n]\n",
    "            n_gram_tuple = tuple(n_gram)\n",
    "            doc_ngrams.append(n_gram_tuple)\n",
    "        \n",
    "        ngram_list.append(doc_ngrams)\n",
    "    \n",
    "    # Return the list of n-grams for each document\n",
    "    return ngram_list\n",
    "\n",
    "\n",
    "def ngrams_to_vector(ngrams, vocabulary):\n",
    "\n",
    "    vector = []\n",
    "    # Iterate over each document in the ngrams list\n",
    "    for doc in ngrams:\n",
    "        # Calculate the word frequency for the current document\n",
    "        doc_counts = calculatewordfreq(doc)\n",
    "        \n",
    "        # Create a vector representation for the current document based on the vocabulary\n",
    "        doc_vector = []\n",
    "        for term in vocabulary:\n",
    "            # Get the count of the current term in the document; if not found, default to 0\n",
    "            count = doc_counts.get(term, 0)\n",
    "            doc_vector.append(count)\n",
    "        \n",
    "        # Append the document vector to the overall vector list\n",
    "        vector.append(doc_vector)\n",
    "    \n",
    "    # Return the vector representation of all documents\n",
    "    return vector"
   ]
  },
  {
   "cell_type": "code",
   "execution_count": 22,
   "id": "5da5c499",
   "metadata": {},
   "outputs": [],
   "source": [
    "data = pd.read_csv('/Users/swastikagarwal/Downloads/PERSONAL/sem 5 codes/NLP/Musical_instruments_reviews 4.csv')\n",
    "x = data.iloc[:, 4].values\n",
    "y = data.iloc[:, 5].values\n",
    "\n",
    "# Preprocessing y values\n",
    "for i in range(len(y)):\n",
    "    if(y[i] == 4 or y[i] == 5):\n",
    "        y[i] = 1\n",
    "    elif(y[i] == 3):\n",
    "        y[i] = 0\n",
    "    else:\n",
    "        y[i] = -1\n",
    "\n",
    "# Splitting data for balanced classes\n",
    "x2 = []\n",
    "y2 = []\n",
    "c = {-1: 0, 0: 0, 1: 0}\n",
    "for z in range(len(x)):\n",
    "    if(c[y[z]] <= 467):\n",
    "        x2.append(x[z])\n",
    "        c[y[z]] += 1\n",
    "        y2.append(y[z])\n",
    "\n",
    "x = x2\n",
    "y = y2\n",
    "\n",
    "from sklearn.model_selection import train_test_split\n",
    "x_train, x_test, y_train, y_test = train_test_split(x, y, test_size=0.2, random_state=1)\n",
    "\n",
    "n = int(input(\"Enter the value of n for n-grams: \"))\n",
    "xtrain_ngrams = calculate_ngrams(x_train, n)\n",
    "xtest_ngrams = calculate_ngrams(x_test, n)\n",
    "\n",
    "vocabulary = set()\n",
    "# Iterate over each document in the xtrain_ngrams list\n",
    "for doc in xtrain_ngrams:\n",
    "    # Iterate over each n-gram in the current document\n",
    "    for gram in doc:\n",
    "        # Add the n-gram to the set (if it's not already present)\n",
    "        vocabulary.add(gram)\n",
    "\n",
    "\n",
    "xtrain_vector = ngrams_to_vector(xtrain_ngrams, vocabulary)\n",
    "xtest_vector = ngrams_to_vector(xtest_ngrams, vocabulary)\n",
    "\n"
   ]
  },
  {
   "cell_type": "code",
   "execution_count": 23,
   "id": "2ea8814d",
   "metadata": {},
   "outputs": [
    {
     "name": "stderr",
     "output_type": "stream",
     "text": [
      "/Users/swastikagarwal/Library/Python/3.9/lib/python/site-packages/sklearn/linear_model/_logistic.py:460: ConvergenceWarning: lbfgs failed to converge (status=1):\n",
      "STOP: TOTAL NO. of ITERATIONS REACHED LIMIT.\n",
      "\n",
      "Increase the number of iterations (max_iter) or scale the data as shown in:\n",
      "    https://scikit-learn.org/stable/modules/preprocessing.html\n",
      "Please also refer to the documentation for alternative solver options:\n",
      "    https://scikit-learn.org/stable/modules/linear_model.html#logistic-regression\n",
      "  n_iter_i = _check_optimize_result(\n"
     ]
    },
    {
     "data": {
      "text/html": [
       "<style>#sk-container-id-4 {color: black;}#sk-container-id-4 pre{padding: 0;}#sk-container-id-4 div.sk-toggleable {background-color: white;}#sk-container-id-4 label.sk-toggleable__label {cursor: pointer;display: block;width: 100%;margin-bottom: 0;padding: 0.3em;box-sizing: border-box;text-align: center;}#sk-container-id-4 label.sk-toggleable__label-arrow:before {content: \"▸\";float: left;margin-right: 0.25em;color: #696969;}#sk-container-id-4 label.sk-toggleable__label-arrow:hover:before {color: black;}#sk-container-id-4 div.sk-estimator:hover label.sk-toggleable__label-arrow:before {color: black;}#sk-container-id-4 div.sk-toggleable__content {max-height: 0;max-width: 0;overflow: hidden;text-align: left;background-color: #f0f8ff;}#sk-container-id-4 div.sk-toggleable__content pre {margin: 0.2em;color: black;border-radius: 0.25em;background-color: #f0f8ff;}#sk-container-id-4 input.sk-toggleable__control:checked~div.sk-toggleable__content {max-height: 200px;max-width: 100%;overflow: auto;}#sk-container-id-4 input.sk-toggleable__control:checked~label.sk-toggleable__label-arrow:before {content: \"▾\";}#sk-container-id-4 div.sk-estimator input.sk-toggleable__control:checked~label.sk-toggleable__label {background-color: #d4ebff;}#sk-container-id-4 div.sk-label input.sk-toggleable__control:checked~label.sk-toggleable__label {background-color: #d4ebff;}#sk-container-id-4 input.sk-hidden--visually {border: 0;clip: rect(1px 1px 1px 1px);clip: rect(1px, 1px, 1px, 1px);height: 1px;margin: -1px;overflow: hidden;padding: 0;position: absolute;width: 1px;}#sk-container-id-4 div.sk-estimator {font-family: monospace;background-color: #f0f8ff;border: 1px dotted black;border-radius: 0.25em;box-sizing: border-box;margin-bottom: 0.5em;}#sk-container-id-4 div.sk-estimator:hover {background-color: #d4ebff;}#sk-container-id-4 div.sk-parallel-item::after {content: \"\";width: 100%;border-bottom: 1px solid gray;flex-grow: 1;}#sk-container-id-4 div.sk-label:hover label.sk-toggleable__label {background-color: #d4ebff;}#sk-container-id-4 div.sk-serial::before {content: \"\";position: absolute;border-left: 1px solid gray;box-sizing: border-box;top: 0;bottom: 0;left: 50%;z-index: 0;}#sk-container-id-4 div.sk-serial {display: flex;flex-direction: column;align-items: center;background-color: white;padding-right: 0.2em;padding-left: 0.2em;position: relative;}#sk-container-id-4 div.sk-item {position: relative;z-index: 1;}#sk-container-id-4 div.sk-parallel {display: flex;align-items: stretch;justify-content: center;background-color: white;position: relative;}#sk-container-id-4 div.sk-item::before, #sk-container-id-4 div.sk-parallel-item::before {content: \"\";position: absolute;border-left: 1px solid gray;box-sizing: border-box;top: 0;bottom: 0;left: 50%;z-index: -1;}#sk-container-id-4 div.sk-parallel-item {display: flex;flex-direction: column;z-index: 1;position: relative;background-color: white;}#sk-container-id-4 div.sk-parallel-item:first-child::after {align-self: flex-end;width: 50%;}#sk-container-id-4 div.sk-parallel-item:last-child::after {align-self: flex-start;width: 50%;}#sk-container-id-4 div.sk-parallel-item:only-child::after {width: 0;}#sk-container-id-4 div.sk-dashed-wrapped {border: 1px dashed gray;margin: 0 0.4em 0.5em 0.4em;box-sizing: border-box;padding-bottom: 0.4em;background-color: white;}#sk-container-id-4 div.sk-label label {font-family: monospace;font-weight: bold;display: inline-block;line-height: 1.2em;}#sk-container-id-4 div.sk-label-container {text-align: center;}#sk-container-id-4 div.sk-container {/* jupyter's `normalize.less` sets `[hidden] { display: none; }` but bootstrap.min.css set `[hidden] { display: none !important; }` so we also need the `!important` here to be able to override the default hidden behavior on the sphinx rendered scikit-learn.org. See: https://github.com/scikit-learn/scikit-learn/issues/21755 */display: inline-block !important;position: relative;}#sk-container-id-4 div.sk-text-repr-fallback {display: none;}</style><div id=\"sk-container-id-4\" class=\"sk-top-container\"><div class=\"sk-text-repr-fallback\"><pre>LogisticRegression()</pre><b>In a Jupyter environment, please rerun this cell to show the HTML representation or trust the notebook. <br />On GitHub, the HTML representation is unable to render, please try loading this page with nbviewer.org.</b></div><div class=\"sk-container\" hidden><div class=\"sk-item\"><div class=\"sk-estimator sk-toggleable\"><input class=\"sk-toggleable__control sk-hidden--visually\" id=\"sk-estimator-id-4\" type=\"checkbox\" checked><label for=\"sk-estimator-id-4\" class=\"sk-toggleable__label sk-toggleable__label-arrow\">LogisticRegression</label><div class=\"sk-toggleable__content\"><pre>LogisticRegression()</pre></div></div></div></div></div>"
      ],
      "text/plain": [
       "LogisticRegression()"
      ]
     },
     "execution_count": 23,
     "metadata": {},
     "output_type": "execute_result"
    }
   ],
   "source": [
    "\n",
    "model = LogisticRegression()\n",
    "\n",
    "model.fit(xtrain_vector, y_train)\n",
    "\n",
    "# y_pred = model.predict(xtest_vector)\n"
   ]
  },
  {
   "cell_type": "code",
   "execution_count": 24,
   "id": "13968b5e",
   "metadata": {},
   "outputs": [
    {
     "name": "stdout",
     "output_type": "stream",
     "text": [
      "-1.0\n"
     ]
    }
   ],
   "source": [
    "review = \"not great product but useful buy this\"\n",
    "review_ngrams = calculate_ngrams([review], n)\n",
    "review_vector = ngrams_to_vector(review_ngrams, vocabulary)\n",
    "res = model.predict(review_vector)\n",
    "print(res[0])  # Prediction for the review"
   ]
  },
  {
   "cell_type": "code",
   "execution_count": 25,
   "id": "8f15f389",
   "metadata": {},
   "outputs": [
    {
     "name": "stdout",
     "output_type": "stream",
     "text": [
      "1.0\n"
     ]
    }
   ],
   "source": [
    "review = \"best product highly recommended\"\n",
    "review_ngrams = calculate_ngrams([review], n)\n",
    "review_vector = ngrams_to_vector(review_ngrams, vocabulary)\n",
    "res = model.predict(review_vector)\n",
    "print(res[0])  # Prediction for the review"
   ]
  },
  {
   "cell_type": "code",
   "execution_count": 26,
   "id": "fc23a5c9",
   "metadata": {},
   "outputs": [
    {
     "name": "stdout",
     "output_type": "stream",
     "text": [
      "0.0\n"
     ]
    }
   ],
   "source": [
    "review = \"Oh its a crybaby\"\n",
    "review_ngrams = calculate_ngrams([review], n)\n",
    "review_vector = ngrams_to_vector(review_ngrams, vocabulary)\n",
    "res = model.predict(review_vector)\n",
    "print(res[0])  # Prediction for the review"
   ]
  }
 ],
 "metadata": {
  "kernelspec": {
   "display_name": "Python 3.9.6 64-bit",
   "language": "python",
   "name": "python3"
  },
  "language_info": {
   "codemirror_mode": {
    "name": "ipython",
    "version": 3
   },
   "file_extension": ".py",
   "mimetype": "text/x-python",
   "name": "python",
   "nbconvert_exporter": "python",
   "pygments_lexer": "ipython3",
   "version": "3.9.6"
  },
  "vscode": {
   "interpreter": {
    "hash": "31f2aee4e71d21fbe5cf8b01ff0e069b9275f58929596ceb00d14d90e3e16cd6"
   }
  }
 },
 "nbformat": 4,
 "nbformat_minor": 5
}
